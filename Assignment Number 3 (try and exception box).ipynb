{
 "cells": [
  {
   "cell_type": "code",
   "execution_count": null,
   "id": "8fa2e90a",
   "metadata": {},
   "outputs": [],
   "source": [
    "  #Assignment number 1( With try and Exception box) "
   ]
  },
  {
   "cell_type": "code",
   "execution_count": 12,
   "id": "0759a897",
   "metadata": {},
   "outputs": [
    {
     "name": "stdout",
     "output_type": "stream",
     "text": [
      "Enter a Number:5\n",
      "The square of 5 is:25 \n"
     ]
    }
   ],
   "source": [
    "\n",
    "# 1\n",
    "try:\n",
    "    val1=eval(input(\"Enter a Number:\"))\n",
    "    square=(val1*val1)\n",
    "    print(\"The square of {} is:{} \" .format(val1,square))\n",
    "except Exception as e:\n",
    "    print(e)"
   ]
  },
  {
   "cell_type": "code",
   "execution_count": 2,
   "id": "c0a38131",
   "metadata": {},
   "outputs": [
    {
     "name": "stdout",
     "output_type": "stream",
     "text": [
      "enter a number:5\n",
      "The Multiples of 5 is: 5---10---15---20---25\n"
     ]
    }
   ],
   "source": [
    "# 2\n",
    "\n",
    "try:\n",
    "    val1=eval(input(\"enter a number:\"))\n",
    "    val2=(val1*2)\n",
    "    val3=(val1*3)\n",
    "    val4=(val1*4)\n",
    "    val5=(val1*5)\n",
    "    print(\"The Multiples of {} is: {}---{}---{}---{}---{}\" .format(val1,val1,val2,val3,val4,val5))\n",
    "except Exception as e:\n",
    "    print(e)\n"
   ]
  },
  {
   "cell_type": "code",
   "execution_count": 4,
   "id": "247c5222",
   "metadata": {},
   "outputs": [
    {
     "name": "stdout",
     "output_type": "stream",
     "text": [
      "Tell me your weight:50\n",
      "The Weight in pound is: 110.0 lbs\n"
     ]
    }
   ],
   "source": [
    "# 3\n",
    "try:\n",
    "    kg=eval(input(\"Tell me your weight:\"))\n",
    "    pound=2.2\n",
    "    weight=kg*2.2\n",
    "    print(\"The Weight in pound is: {} lbs\".format(round(weight,2)))\n",
    "except Exception as e:\n",
    "    print(e)"
   ]
  },
  {
   "cell_type": "code",
   "execution_count": 5,
   "id": "fb4f6c45",
   "metadata": {},
   "outputs": [
    {
     "name": "stdout",
     "output_type": "stream",
     "text": [
      "Enter the number:2\n",
      "Enter the number:3\n",
      "Enter the number:4\n",
      "the totle of number 2, 3 and 4 is: 9\n",
      "And the Average of these number is:3.0\n"
     ]
    }
   ],
   "source": [
    "#4 \n",
    "try:\n",
    "    num1=eval(input(\"Enter the number:\"))\n",
    "    num2=eval(input(\"Enter the number:\"))\n",
    "    num3=eval(input(\"Enter the number:\"))\n",
    "    Totle=num1+num2+num3\n",
    "    Average=Totle/3\n",
    "    print(\"the totle of number {}, {} and {} is: {}\".format(num1,num2,num3,Totle))\n",
    "    print(\"And the Average of these number is:{}\".format(Average))\n",
    "except Exception as e:\n",
    "    print(e)\n"
   ]
  },
  {
   "cell_type": "code",
   "execution_count": 10,
   "id": "83da1aba",
   "metadata": {},
   "outputs": [
    {
     "name": "stdout",
     "output_type": "stream",
     "text": [
      "What is the price of this dish:100\n",
      "How much Percent tip do you want:5\n",
      "The Tip is: 5.0%\n",
      "The totle bill is: 105.0\n"
     ]
    }
   ],
   "source": [
    "# 5\n",
    "try:\n",
    "    Price=eval(input(\"What is the price of this dish:\"))\n",
    "    Tip=eval(input(\"How much Percent tip do you want:\"))\n",
    "    Percent_Tip=(Tip*Price)/100\n",
    "    Totle_Bill=Percent_Tip+Price\n",
    "    print(\"The Tip is: {}%\".format(Percent_Tip)) \n",
    "    print(\"The totle bill is: {}\".format(Totle_Bill))\n",
    "except Exception as e:\n",
    "    print(e)\n"
   ]
  },
  {
   "cell_type": "code",
   "execution_count": null,
   "id": "cb9c8ee7",
   "metadata": {},
   "outputs": [],
   "source": [
    "# Assignment number 2 (With try and exception box)"
   ]
  },
  {
   "cell_type": "code",
   "execution_count": 13,
   "id": "4de55f36",
   "metadata": {},
   "outputs": [
    {
     "name": "stdout",
     "output_type": "stream",
     "text": [
      "Ramesh salery is:20000\n",
      "Ramesh's gross salary is:32000.0\n"
     ]
    }
   ],
   "source": [
    "\n",
    "#1\n",
    "try:\n",
    "    salary=eval(input(\"Ramesh salery is:\"))\n",
    "    DA=40/100*salary\n",
    "    HRA=20/100*salary\n",
    "    gross_salary=DA+HRA+salary\n",
    "    print(\"Ramesh's gross salary is:{}\".format(gross_salary))\n",
    "except Exception as e:\n",
    "    print(e)"
   ]
  },
  {
   "cell_type": "code",
   "execution_count": 14,
   "id": "357ac31a",
   "metadata": {},
   "outputs": [
    {
     "name": "stdout",
     "output_type": "stream",
     "text": [
      "distance between the 2 cities in km:50\n",
      "The distance of 2 cities in meters is: 50000\n",
      "The distance of 2 cities in feet is: 164050\n",
      "The distance of 2 cities in inches is: 1968500\n",
      "The distance of 2 cities in centimeters is: 5000000\n"
     ]
    }
   ],
   "source": [
    "#2\n",
    "try:\n",
    "    km=eval(input(\"distance between the 2 cities in km:\"))\n",
    "    distance_in_meters=1000*km  \n",
    "    distance_in_feet=3281*km\n",
    "    distance_in_inches=39370*km\n",
    "    distance_in_centimeters=100000*km\n",
    "    print(\"The distance of 2 cities in meters is: {}\".format(distance_in_meters))\n",
    "    print(\"The distance of 2 cities in feet is: {}\".format(distance_in_feet))\n",
    "    print(\"The distance of 2 cities in inches is: {}\".format(distance_in_inches))\n",
    "    print(\"The distance of 2 cities in centimeters is: {}\".format(distance_in_centimeters))\n",
    "except Exception as e:\n",
    "    print(e)"
   ]
  },
  {
   "cell_type": "code",
   "execution_count": 15,
   "id": "41a930c9",
   "metadata": {},
   "outputs": [
    {
     "name": "stdout",
     "output_type": "stream",
     "text": [
      "enter marks not gretter than 100\n",
      "Mathematics marks is:90\n",
      "Science marks is: 89\n",
      "History marks is:78\n",
      "Geography marks is:67\n",
      "EVS marks is:89\n",
      "Aggrigate is: 413\n",
      "Percentage is: 82.6\n"
     ]
    }
   ],
   "source": [
    "#3\n",
    "try:\n",
    "    print(\"enter marks not gretter than 100\")\n",
    "    Mathematics=eval(input(\"Mathematics marks is:\"))\n",
    "    Science=eval(input(\"Science marks is: \"))\n",
    "    History=eval(input(\"History marks is:\"))\n",
    "    Geography=eval(input(\"Geography marks is:\"))\n",
    "    EVS=eval(input(\"EVS marks is:\"))\n",
    "    if Mathematics>100:\n",
    "        print(\"mathematics: {} -add marks less than 100\".format(Mathematics))         \n",
    "    elif Science>100:\n",
    "        print(\"science: {} -add marks less than 100\".format(Science))\n",
    "    elif History>100:\n",
    "        print(\"history: {} -add marks less than 100\".format(History))\n",
    "    elif Geography>100:\n",
    "        print(\"Geography: {} -add marks less than 100\".format(Geography))\n",
    "    elif EVS>100:  \n",
    "        print(\"EVS: {} -add marks less than 100\".format(EVS))\n",
    "    else:\n",
    "        Aggrigate=Mathematics+Science+History+Geography+EVS\n",
    "        Percentage=(Aggrigate/500)*100 \n",
    "        print(\"Aggrigate is: {}\".format(Aggrigate))   \n",
    "        print(\"Percentage is: {}\".format(Percentage)) \n",
    "except Exception as e:\n",
    "    print(e)"
   ]
  },
  {
   "cell_type": "code",
   "execution_count": 16,
   "id": "bad7300a",
   "metadata": {},
   "outputs": [
    {
     "name": "stdout",
     "output_type": "stream",
     "text": [
      "Add a Temprature of city in Fahrenheit Degree: 40\n",
      "Temprature of city in Fahrenheit Degree is: 40\n",
      "Temprature of city in Centigrade_Degree is: 4.44\n"
     ]
    }
   ],
   "source": [
    "#4\n",
    "try:\n",
    "    Temprature_in_Fahrenheit_Degree=eval(input(\"Add a Temprature of city in Fahrenheit Degree: \"))\n",
    "    Temprature_in_Centigrade_Degree=(Temprature_in_Fahrenheit_Degree-32)*5/9\n",
    "    print(\"Temprature of city in Fahrenheit Degree is: {}\".format(Temprature_in_Fahrenheit_Degree))\n",
    "    print(\"Temprature of city in Centigrade_Degree is: {}\".format(round(Temprature_in_Centigrade_Degree,2)))\n",
    "except Exception as e:\n",
    "    print(e)"
   ]
  },
  {
   "cell_type": "code",
   "execution_count": 18,
   "id": "7445a4b3",
   "metadata": {},
   "outputs": [
    {
     "name": "stdout",
     "output_type": "stream",
     "text": [
      "Enter the Lenth of the Rectangle is:8\n",
      "Enter the Breadth of the Rectangle is:4\n",
      "Enter the Radius of the Circle is:5\n",
      "Area of Rectangle is: 32\n",
      "Perimeter of Rectangle is: 24\n",
      "Area of Circle is: 78.54\n",
      "Cercumference is: 31.42\n"
     ]
    }
   ],
   "source": [
    "#5\n",
    "import math\n",
    "try:\n",
    "    Lenth_of_Rectangle=eval(input(\"Enter the Lenth of the Rectangle is:\"))\n",
    "    Breadth_of_Rectangle=eval(input(\"Enter the Breadth of the Rectangle is:\"))\n",
    "    Radius_of_Circle=eval(input(\"Enter the Radius of the Circle is:\"))\n",
    "    Area_of_Rectangle=Lenth_of_Rectangle*Breadth_of_Rectangle\n",
    "    Perimeter_of_Rectangle=2*(Lenth_of_Rectangle+Breadth_of_Rectangle)\n",
    "    Area_of_Circle=math.pi*Radius_of_Circle*Radius_of_Circle\n",
    "    Cercumference_of_Circle=2*math.pi*Radius_of_Circle\n",
    "    print(\"Area of Rectangle is: {}\".format(Area_of_Rectangle))\n",
    "    print(\"Perimeter of Rectangle is: {}\".format(Perimeter_of_Rectangle))\n",
    "    print(\"Area of Circle is: {}\".format(round(Area_of_Circle,2)))\n",
    "    print(\"Cercumference is: {}\".format(round(Cercumference_of_Circle,2)))\n",
    "except Exception as e:\n",
    "    print(e)"
   ]
  },
  {
   "cell_type": "code",
   "execution_count": 20,
   "id": "a9b630c2",
   "metadata": {},
   "outputs": [
    {
     "name": "stdout",
     "output_type": "stream",
     "text": [
      "Enter The Number in C: 5\n",
      "Enter Another Number in D: 8\n",
      "The Value of C is: 8\n",
      "The Value of D is: 5\n"
     ]
    }
   ],
   "source": [
    "#6\n",
    "try:\n",
    "    C=eval(input(\"Enter The Number in C: \"))\n",
    "    D=eval(input(\"Enter Another Number in D: \"))\n",
    "    C==D\n",
    "    D==C\n",
    "    print(\"The Value of C is: {}\".format(D))\n",
    "    print(\"The Value of D is: {}\".format(C))\n",
    "except Exception as e:\n",
    "    print(e)"
   ]
  },
  {
   "cell_type": "code",
   "execution_count": 21,
   "id": "b971a408",
   "metadata": {},
   "outputs": [
    {
     "name": "stdout",
     "output_type": "stream",
     "text": [
      "Enter the Five digit Number: 12345\n",
      "Reverse Number of 12345 is: 54321 \n"
     ]
    }
   ],
   "source": [
    "#7\n",
    "try:\n",
    "    Number=eval(input(\"Enter the Five digit Number: \"))\n",
    "    Num=Number\n",
    "    Reverse_Number=0\n",
    "    a=Number%10\n",
    "    Number=Number//10\n",
    "    Reverse_Number=Reverse_Number+a*10000\n",
    "    \n",
    "    a=Number%10\n",
    "    Number=Number//10\n",
    "    Reverse_Number=Reverse_Number+a*1000\n",
    "    \n",
    "    a=Number%10\n",
    "    Number=Number//10\n",
    "    Reverse_Number=Reverse_Number+a*100\n",
    "    \n",
    "    a=Number%10\n",
    "    Number=Number//10\n",
    "    Reverse_Number=Reverse_Number+a*10\n",
    "    \n",
    "    a=Number%10\n",
    "    Number=Number//10\n",
    "    Reverse_Number=Reverse_Number+a\n",
    "    \n",
    "    print(\"Reverse Number of {} is: {} \".format(Num,Reverse_Number))\n",
    "except Exception as e:\n",
    "    print(e)"
   ]
  },
  {
   "cell_type": "code",
   "execution_count": 22,
   "id": "38277629",
   "metadata": {},
   "outputs": [
    {
     "name": "stdout",
     "output_type": "stream",
     "text": [
      "Enter the four digit Number: 1234\n",
      "last digit is: 4\n",
      "First digit is: 1\n",
      "Addition of last digit 4 and first digit 1 is: 5 \n"
     ]
    }
   ],
   "source": [
    "#8\n",
    "try:\n",
    "    Number=eval(input(\"Enter the four digit Number: \"))\n",
    "    Num=Number\n",
    "    Reverse_Number=0\n",
    "    Last_digit=Number%10\n",
    "    Number=Number//10\n",
    "    print(\"last digit is: {}\".format(Last_digit))\n",
    "    \n",
    "    a=Number%10\n",
    "    Number=Number//10\n",
    "    \n",
    "    a=Number%10\n",
    "    Number=Number//10\n",
    "    \n",
    "    First_Digit=Number%10\n",
    "    Number=Number//10\n",
    "    print(\"First digit is: {}\".format(First_Digit))\n",
    "    \n",
    "    Addition=First_Digit+Last_digit\n",
    "    \n",
    "    print(\"Addition of last digit {} and first digit {} is: {} \".format(Last_digit,First_Digit,Addition))\n",
    "except Exception as e:\n",
    "    print(e)"
   ]
  },
  {
   "cell_type": "code",
   "execution_count": 23,
   "id": "c826b506",
   "metadata": {},
   "outputs": [
    {
     "name": "stdout",
     "output_type": "stream",
     "text": [
      "Men is: 41600.0\n",
      "Total Literacy is: 38400.0\n",
      "Total Literal Men is: 28000.0\n",
      "Total Literal Women is: 10400.0\n"
     ]
    }
   ],
   "source": [
    "#9\n",
    "try:\n",
    "    Population=80000 \n",
    "    Men=Population*52/100\n",
    "    Total_Literacy=48*Population/100\n",
    "    Total_Literal_Men=35*Population/100\n",
    "    Total_Literal_Women=Total_Literacy-Total_Literal_Men\n",
    "    print(\"Men is: {}\".format(round(Men,2)))\n",
    "    print(\"Total Literacy is: {}\".format (round(Total_Literacy,2)))\n",
    "    print(\"Total Literal Men is: {}\".format(round(Total_Literal_Men,2)))\n",
    "    print(\"Total Literal Women is: {}\".format (round(Total_Literal_Women,2)))\n",
    "except Exception as e:\n",
    "    print(e)"
   ]
  },
  {
   "cell_type": "code",
   "execution_count": 27,
   "id": "8d7c3b0f",
   "metadata": {},
   "outputs": [
    {
     "name": "stdout",
     "output_type": "stream",
     "text": [
      "Enter the Amount of Withdrow: 23570\n",
      "Number of hundred notes are: 235\n",
      "Number of fifty notes are: 1\n",
      "Number of ten notes are: 2\n"
     ]
    }
   ],
   "source": [
    "#10\n",
    "try:\n",
    "    Amount=eval(input(\"Enter the Amount of Withdrow: \"))\n",
    "    Hundred=Amount//100\n",
    "    Amount=Amount%100\n",
    "    \n",
    "    Fifty=Amount//50\n",
    "    Amount=Amount%50\n",
    "    \n",
    "    Ten=Amount//10\n",
    "    print(\"Number of hundred notes are: {}\".format(Hundred))\n",
    "    print(\"Number of fifty notes are: {}\".format(Fifty))\n",
    "    print(\"Number of ten notes are: {}\".format(Ten))\n",
    "except Exception as e:\n",
    "    print(e)"
   ]
  },
  {
   "cell_type": "code",
   "execution_count": null,
   "id": "b4ee2110",
   "metadata": {},
   "outputs": [],
   "source": []
  }
 ],
 "metadata": {
  "kernelspec": {
   "display_name": "Python 3 (ipykernel)",
   "language": "python",
   "name": "python3"
  },
  "language_info": {
   "codemirror_mode": {
    "name": "ipython",
    "version": 3
   },
   "file_extension": ".py",
   "mimetype": "text/x-python",
   "name": "python",
   "nbconvert_exporter": "python",
   "pygments_lexer": "ipython3",
   "version": "3.11.5"
  }
 },
 "nbformat": 4,
 "nbformat_minor": 5
}
