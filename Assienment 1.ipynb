{
 "cells": [
  {
   "cell_type": "code",
   "execution_count": 58,
   "id": "c4bad02c",
   "metadata": {},
   "outputs": [
    {
     "name": "stdout",
     "output_type": "stream",
     "text": [
      "Enter a Number:5.4\n",
      "The square of 5.4 is:29.160000000000004 \n"
     ]
    }
   ],
   "source": [
    "val1=eval(input(\"Enter a Number:\"))\n",
    "square=(val1*val1)\n",
    "print(\"The square of {} is:{} \" .format(val1,square))"
   ]
  },
  {
   "cell_type": "code",
   "execution_count": 59,
   "id": "827d90be",
   "metadata": {
    "scrolled": true
   },
   "outputs": [
    {
     "name": "stdout",
     "output_type": "stream",
     "text": [
      "enter a number:7\n",
      "The Multiples of 7 is: 7---14---21---28---35\n"
     ]
    }
   ],
   "source": [
    "val1=eval(input(\"enter a number:\"))\n",
    "val2=(val1*2)\n",
    "val3=(val1*3)\n",
    "val4=(val1*4)\n",
    "val5=(val1*5)\n",
    "print(\"The Multiples of {} is: {}---{}---{}---{}---{}\" .format(val1,val1,val2,val3,val4,val5))"
   ]
  },
  {
   "cell_type": "code",
   "execution_count": null,
   "id": "10f217bd",
   "metadata": {},
   "outputs": [],
   "source": []
  }
 ],
 "metadata": {
  "kernelspec": {
   "display_name": "Python 3 (ipykernel)",
   "language": "python",
   "name": "python3"
  },
  "language_info": {
   "codemirror_mode": {
    "name": "ipython",
    "version": 3
   },
   "file_extension": ".py",
   "mimetype": "text/x-python",
   "name": "python",
   "nbconvert_exporter": "python",
   "pygments_lexer": "ipython3",
   "version": "3.11.5"
  }
 },
 "nbformat": 4,
 "nbformat_minor": 5
}
