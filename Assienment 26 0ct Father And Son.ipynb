{
 "cells": [
  {
   "cell_type": "code",
   "execution_count": null,
   "id": "b812bc2a",
   "metadata": {},
   "outputs": [],
   "source": [
    "# Father And Son\n"
   ]
  },
  {
   "cell_type": "code",
   "execution_count": 1,
   "id": "e8f5a81a",
   "metadata": {},
   "outputs": [
    {
     "name": "stdout",
     "output_type": "stream",
     "text": [
      "Father: which cource do you want to do?\n",
      "son: DS cource\n",
      "Father: ohh! that is very nice...!\n",
      "Father: may i know your JEE rank..?\n",
      "Son: my rank is: 200\n",
      "Father:then how can you purce..?\n",
      "Son: Payment seat\n",
      "Father: Which collage is offer\n",
      "son: collage name is:Naresh IT\n",
      "father:how much is the fees...?\n",
      "son:the fees is:20000\n",
      "father:how many sem..?\n",
      "son:sems are: 4\n",
      "father:then how much the totle cost...?\n",
      "son:the totle cost of the fees is: 80000\n"
     ]
    }
   ],
   "source": [
    "import time\n",
    "print(\"Father: which cource do you want to do?\")\n",
    "time.sleep(2)\n",
    "print(\"son: DS cource\")\n",
    "time.sleep(2)\n",
    "print(\"Father: ohh! that is very nice...!\")\n",
    "time.sleep(2)\n",
    "print(\"Father: may i know your JEE rank..?\")\n",
    "time.sleep(2)\n",
    "rank=eval(input(\"Son: my rank is: \"))\n",
    "time.sleep(2)\n",
    "print(\"Father:then how can you purce..?\")\n",
    "time.sleep(2)\n",
    "print(\"Son: Payment seat\")\n",
    "time.sleep(2)\n",
    "print(\"Father: Which collage is offer\")\n",
    "time.sleep(2)\n",
    "collage=input(\"son: collage name is:\")\n",
    "time.sleep(2) \n",
    "print(\"father:how much is the fees...?\")\n",
    "time.sleep(2)\n",
    "fees=eval(input(\"son:the fees is:\"))\n",
    "print(\"father:how many sem..?\")\n",
    "time.sleep(2)      \n",
    "sem=eval(input(\"son:sems are: \"))\n",
    "time.sleep(2)      \n",
    "print(\"father:then how much the totle cost...?\")\n",
    "time.sleep(2)\n",
    "cost=fees*sem\n",
    "time.sleep(2)      \n",
    "print(\"son:the totle cost of the fees is: {}\" .format(cost))"
   ]
  },
  {
   "cell_type": "code",
   "execution_count": null,
   "id": "0d77d1c1",
   "metadata": {},
   "outputs": [],
   "source": []
  }
 ],
 "metadata": {
  "kernelspec": {
   "display_name": "Python 3 (ipykernel)",
   "language": "python",
   "name": "python3"
  },
  "language_info": {
   "codemirror_mode": {
    "name": "ipython",
    "version": 3
   },
   "file_extension": ".py",
   "mimetype": "text/x-python",
   "name": "python",
   "nbconvert_exporter": "python",
   "pygments_lexer": "ipython3",
   "version": "3.11.5"
  }
 },
 "nbformat": 4,
 "nbformat_minor": 5
}
